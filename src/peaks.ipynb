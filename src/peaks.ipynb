{
 "cells": [
  {
   "cell_type": "code",
   "execution_count": 1,
   "metadata": {},
   "outputs": [],
   "source": [
    "import numpy as np\n",
    "import os"
   ]
  },
  {
   "cell_type": "code",
   "execution_count": 2,
   "metadata": {},
   "outputs": [],
   "source": [
    "tries_lin = []\n",
    "\n",
    "for i in range(10):\n",
    "    energylist = []\n",
    "    directorypath = f'../outputs/energy/tries_lin/{i+1}'\n",
    "    for j in range(9):\n",
    "        energylist.append(np.load(directorypath + '/microphone' + str(j+1) + '.npy'))\n",
    "    tries_lin.append(energylist)\n",
    "\n",
    "tries_co = []\n",
    "\n",
    "for i in range(10):\n",
    "    energylist = []\n",
    "    directorypath = f'../outputs/energy/tries_co/{i+1}'\n",
    "    for j in range(9):\n",
    "        energylist.append(np.load(directorypath + '/microphone' + str(j+1) + '.npy'))\n",
    "    tries_co.append(energylist)"
   ]
  },
  {
   "cell_type": "code",
   "execution_count": 3,
   "metadata": {},
   "outputs": [],
   "source": [
    "def justMax(array):\n",
    "    current = 0\n",
    "    currentindex = 0\n",
    "    for i in range(array.size):\n",
    "        if array[i]:\n",
    "            if current < array[i]:\n",
    "                current = array[i]\n",
    "                array[currentindex] = 0\n",
    "                currentindex = i\n",
    "            else:\n",
    "                array[i] = 0\n",
    "        else: \n",
    "            current = 0\n",
    "            currentindex = i"
   ]
  },
  {
   "cell_type": "code",
   "execution_count": 4,
   "metadata": {},
   "outputs": [],
   "source": [
    "tries_lin_energy = []\n",
    "tries_co_energy = []\n",
    "for j in range(10):\n",
    "    energies = []\n",
    "    for energy in tries_lin[j]:\n",
    "        listcopy = energy.copy()\n",
    "        justMax(listcopy)\n",
    "        energies.append(listcopy)\n",
    "    \n",
    "    tries_lin_energy.append(energies)\n",
    "\n",
    "    energies = []\n",
    "    for energy in tries_co[j]:\n",
    "        listcopy2 = energy.copy()\n",
    "        justMax(listcopy2)\n",
    "        energies.append(listcopy2)\n",
    "    \n",
    "    tries_co_energy.append(energies)\n",
    "\n",
    "    # Guardar los datos de tries en un archivo .npy\n",
    "    destination_path_lin = f'../outputs/energy2/tries_lin'\n",
    "    destination_path_co = f'../outputs/energy2/tries_co'\n",
    "    for i in range(9):\n",
    "        # Verificar si el directorio existe, si no, crearlo\n",
    "        if not os.path.exists(f'{destination_path_lin}/{j+1}'):\n",
    "            os.makedirs(f'{destination_path_lin}/{j+1}')\n",
    "        np.save(f'{destination_path_lin}/{j+1}/microphone{i+1}.npy', tries_lin_energy[j][i])\n",
    "        if not os.path.exists(f'{destination_path_co}/{j+1}'):\n",
    "            os.makedirs(f'{destination_path_co}/{j+1}')\n",
    "        np.save(f'{destination_path_co}/{j+1}/microphone{i+1}.npy', tries_co_energy[j][i])\n"
   ]
  }
 ],
 "metadata": {
  "kernelspec": {
   "display_name": "Python 3",
   "language": "python",
   "name": "python3"
  },
  "language_info": {
   "codemirror_mode": {
    "name": "ipython",
    "version": 3
   },
   "file_extension": ".py",
   "mimetype": "text/x-python",
   "name": "python",
   "nbconvert_exporter": "python",
   "pygments_lexer": "ipython3",
   "version": "3.8.10"
  }
 },
 "nbformat": 4,
 "nbformat_minor": 2
}
